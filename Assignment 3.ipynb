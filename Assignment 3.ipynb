{
  "nbformat": 4,
  "nbformat_minor": 0,
  "metadata": {
    "colab": {
      "name": "Assignment 5.ipynb",
      "version": "0.3.2",
      "provenance": [],
      "collapsed_sections": []
    },
    "kernelspec": {
      "name": "python3",
      "display_name": "Python 3"
    },
    "accelerator": "GPU"
  },
  "cells": [
    {
      "cell_type": "markdown",
      "metadata": {
        "id": "aNyZv-Ec52ot",
        "colab_type": "text"
      },
      "source": [
        "# **Import Libraries and modules**"
      ]
    },
    {
      "cell_type": "code",
      "metadata": {
        "id": "3m3w1Cw49Zkt",
        "colab_type": "code",
        "colab": {}
      },
      "source": [
        "# https://keras.io/\n",
        "!pip install -q keras\n",
        "import keras"
      ],
      "execution_count": 0,
      "outputs": []
    },
    {
      "cell_type": "code",
      "metadata": {
        "id": "Eso6UHE080D4",
        "colab_type": "code",
        "colab": {}
      },
      "source": [
        "import numpy as np\n",
        "\n",
        "from keras.models import Sequential\n",
        "from keras.layers import Dense, Dropout, Activation, Flatten, Add, BatchNormalization\n",
        "from keras.layers import Convolution2D, MaxPooling2D\n",
        "from keras.utils import np_utils"
      ],
      "execution_count": 0,
      "outputs": []
    },
    {
      "cell_type": "code",
      "metadata": {
        "id": "oNsUdqwJyMG1",
        "colab_type": "code",
        "colab": {}
      },
      "source": [
        "from google.colab import files"
      ],
      "execution_count": 0,
      "outputs": []
    },
    {
      "cell_type": "code",
      "metadata": {
        "id": "HumoEAJmyX2y",
        "colab_type": "code",
        "colab": {}
      },
      "source": [
        "from google.colab import drive"
      ],
      "execution_count": 0,
      "outputs": []
    },
    {
      "cell_type": "code",
      "metadata": {
        "id": "M7YDcvL9ycAF",
        "colab_type": "code",
        "outputId": "d5b80fae-8e05-45c7-89a1-acf25bda4b9f",
        "colab": {
          "base_uri": "https://localhost:8080/",
          "height": 122
        }
      },
      "source": [
        "drive.mount('/content/gdrive')\n",
        "\n",
        "root_path = 'gdrive/My Drive/Colab_Models/'"
      ],
      "execution_count": 6,
      "outputs": [
        {
          "output_type": "stream",
          "text": [
            "Go to this URL in a browser: https://accounts.google.com/o/oauth2/auth?client_id=947318989803-6bn6qk8qdgf4n4g3pfee6491hc0brc4i.apps.googleusercontent.com&redirect_uri=urn%3Aietf%3Awg%3Aoauth%3A2.0%3Aoob&scope=email%20https%3A%2F%2Fwww.googleapis.com%2Fauth%2Fdocs.test%20https%3A%2F%2Fwww.googleapis.com%2Fauth%2Fdrive%20https%3A%2F%2Fwww.googleapis.com%2Fauth%2Fdrive.photos.readonly%20https%3A%2F%2Fwww.googleapis.com%2Fauth%2Fpeopleapi.readonly&response_type=code\n",
            "\n",
            "Enter your authorization code:\n",
            "··········\n",
            "Mounted at /content/gdrive\n"
          ],
          "name": "stdout"
        }
      ]
    },
    {
      "cell_type": "code",
      "metadata": {
        "id": "iZfsHwzlwRjU",
        "colab_type": "code",
        "colab": {}
      },
      "source": [
        "from keras.datasets import mnist"
      ],
      "execution_count": 0,
      "outputs": []
    },
    {
      "cell_type": "code",
      "metadata": {
        "id": "pWJovPp5zG6a",
        "colab_type": "code",
        "colab": {}
      },
      "source": [
        "from keras.callbacks import ModelCheckpoint"
      ],
      "execution_count": 0,
      "outputs": []
    },
    {
      "cell_type": "code",
      "metadata": {
        "id": "zNcj4iDJphih",
        "colab_type": "code",
        "colab": {}
      },
      "source": [
        "from keras.callbacks import LearningRateScheduler"
      ],
      "execution_count": 0,
      "outputs": []
    },
    {
      "cell_type": "code",
      "metadata": {
        "id": "_T_zeJF1imyK",
        "colab_type": "code",
        "colab": {}
      },
      "source": [
        "from keras.preprocessing.image import ImageDataGenerator"
      ],
      "execution_count": 0,
      "outputs": []
    },
    {
      "cell_type": "markdown",
      "metadata": {
        "id": "zByEi95J86RD",
        "colab_type": "text"
      },
      "source": [
        "### Load pre-shuffled MNIST data into train and test sets"
      ]
    },
    {
      "cell_type": "code",
      "metadata": {
        "id": "7eRM0QWN83PV",
        "colab_type": "code",
        "outputId": "f2f744d5-3498-4679-f777-28a9dd8599b5",
        "colab": {
          "base_uri": "https://localhost:8080/",
          "height": 51
        }
      },
      "source": [
        "(X_train, y_train), (X_test, y_test) = mnist.load_data()"
      ],
      "execution_count": 11,
      "outputs": [
        {
          "output_type": "stream",
          "text": [
            "Downloading data from https://s3.amazonaws.com/img-datasets/mnist.npz\n",
            "11493376/11490434 [==============================] - 2s 0us/step\n"
          ],
          "name": "stdout"
        }
      ]
    },
    {
      "cell_type": "code",
      "metadata": {
        "id": "4a4Be72j8-ZC",
        "colab_type": "code",
        "outputId": "9d01678c-8c0d-4c65-9fd4-ee4420201600",
        "colab": {
          "base_uri": "https://localhost:8080/",
          "height": 303
        }
      },
      "source": [
        "print (X_train.shape)\n",
        "from matplotlib import pyplot as plt\n",
        "%matplotlib inline\n",
        "plt.imshow(X_train[0])"
      ],
      "execution_count": 12,
      "outputs": [
        {
          "output_type": "stream",
          "text": [
            "(60000, 28, 28)\n"
          ],
          "name": "stdout"
        },
        {
          "output_type": "execute_result",
          "data": {
            "text/plain": [
              "<matplotlib.image.AxesImage at 0x7f7b246076d8>"
            ]
          },
          "metadata": {
            "tags": []
          },
          "execution_count": 12
        },
        {
          "output_type": "display_data",
          "data": {
            "image/png": "[encoded data removed]",
            "text/plain": [
              "<Figure size 432x288 with 1 Axes>"
            ]
          },
          "metadata": {
            "tags": []
          }
        }
      ]
    },
    {
      "cell_type": "code",
      "metadata": {
        "id": "dkmprriw9AnZ",
        "colab_type": "code",
        "colab": {}
      },
      "source": [
        "X_train = X_train.reshape(X_train.shape[0], 28, 28,1)\n",
        "X_test = X_test.reshape(X_test.shape[0], 28, 28,1)"
      ],
      "execution_count": 0,
      "outputs": []
    },
    {
      "cell_type": "markdown",
      "metadata": {
        "id": "60tWu8sB0nAt",
        "colab_type": "text"
      },
      "source": [
        "- Standardizing the images (dividing by 255)"
      ]
    },
    {
      "cell_type": "code",
      "metadata": {
        "id": "X2m4YS4E9CRh",
        "colab_type": "code",
        "colab": {}
      },
      "source": [
        "X_train = X_train.astype('float32')\n",
        "X_test = X_test.astype('float32')\n",
        "X_train /= 255\n",
        "X_test /= 255"
      ],
      "execution_count": 0,
      "outputs": []
    },
    {
      "cell_type": "code",
      "metadata": {
        "id": "0Mn0vAYD9DvB",
        "colab_type": "code",
        "outputId": "fa1c8759-6722-45a7-b7a2-1d698f088538",
        "colab": {
          "base_uri": "https://localhost:8080/",
          "height": 34
        }
      },
      "source": [
        "y_train[:10]"
      ],
      "execution_count": 15,
      "outputs": [
        {
          "output_type": "execute_result",
          "data": {
            "text/plain": [
              "array([5, 0, 4, 1, 9, 2, 1, 3, 1, 4], dtype=uint8)"
            ]
          },
          "metadata": {
            "tags": []
          },
          "execution_count": 15
        }
      ]
    },
    {
      "cell_type": "code",
      "metadata": {
        "id": "ZG8JiXR39FHC",
        "colab_type": "code",
        "colab": {}
      },
      "source": [
        "# Convert 1-dimensional class arrays to 10-dimensional class matrices\n",
        "Y_train = np_utils.to_categorical(y_train, 10)\n",
        "Y_test = np_utils.to_categorical(y_test, 10)"
      ],
      "execution_count": 0,
      "outputs": []
    },
    {
      "cell_type": "code",
      "metadata": {
        "id": "fYlFRvKS9HMB",
        "colab_type": "code",
        "outputId": "a9403633-c8bd-498e-c657-c7c1bb231662",
        "colab": {
          "base_uri": "https://localhost:8080/",
          "height": 187
        }
      },
      "source": [
        "Y_train[:10]"
      ],
      "execution_count": 17,
      "outputs": [
        {
          "output_type": "execute_result",
          "data": {
            "text/plain": [
              "array([[0., 0., 0., 0., 0., 1., 0., 0., 0., 0.],\n",
              "       [1., 0., 0., 0., 0., 0., 0., 0., 0., 0.],\n",
              "       [0., 0., 0., 0., 1., 0., 0., 0., 0., 0.],\n",
              "       [0., 1., 0., 0., 0., 0., 0., 0., 0., 0.],\n",
              "       [0., 0., 0., 0., 0., 0., 0., 0., 0., 1.],\n",
              "       [0., 0., 1., 0., 0., 0., 0., 0., 0., 0.],\n",
              "       [0., 1., 0., 0., 0., 0., 0., 0., 0., 0.],\n",
              "       [0., 0., 0., 1., 0., 0., 0., 0., 0., 0.],\n",
              "       [0., 1., 0., 0., 0., 0., 0., 0., 0., 0.],\n",
              "       [0., 0., 0., 0., 1., 0., 0., 0., 0., 0.]], dtype=float32)"
            ]
          },
          "metadata": {
            "tags": []
          },
          "execution_count": 17
        }
      ]
    },
    {
      "cell_type": "code",
      "metadata": {
        "id": "WnMO9YDahozE",
        "colab_type": "code",
        "outputId": "7547d195-d72a-41fa-ce5a-9c2773f7457f",
        "colab": {
          "base_uri": "https://localhost:8080/",
          "height": 34
        }
      },
      "source": [
        "print('Statistics train=%.3f (%.3f), test=%.3f (%.3f)' % (X_train.mean(), X_train.std(), X_test.mean(), X_test.std()))"
      ],
      "execution_count": 18,
      "outputs": [
        {
          "output_type": "stream",
          "text": [
            "Statistics train=0.131 (0.308), test=0.133 (0.310)\n"
          ],
          "name": "stdout"
        }
      ]
    },
    {
      "cell_type": "markdown",
      "metadata": {
        "id": "W5UAMbVp7DPh",
        "colab_type": "text"
      },
      "source": [
        "###Image Normalization using ImageDataGenerator\n",
        "- **featurewise** - the statistics(mean and standard deviation) for the normalization is calculated using the entire dataset\n",
        "- **samplewise** - the statistics are calculated using pixel values in each image\n",
        "\n",
        "\n",
        "- **centering** : scale pixel values to have zero mean\n",
        "- **std_normalization** : scale pixels to have unit variance  \n",
        "\n",
        "We will be using featurewise center and featurewise std_normalization\n"
      ]
    },
    {
      "cell_type": "code",
      "metadata": {
        "id": "RN7cKHDLfNYs",
        "colab_type": "code",
        "colab": {}
      },
      "source": [
        "datagen = ImageDataGenerator(featurewise_center=True, featurewise_std_normalization=True)\n",
        "datagen.fit(X_train)"
      ],
      "execution_count": 0,
      "outputs": []
    },
    {
      "cell_type": "code",
      "metadata": {
        "id": "s3rKughwiua1",
        "colab_type": "code",
        "outputId": "37b32e17-d629-4778-c881-2419fc96219d",
        "colab": {
          "base_uri": "https://localhost:8080/",
          "height": 34
        }
      },
      "source": [
        "print('Data Generator mean=%.3f, std=%.3f' % (datagen.mean, datagen.std))"
      ],
      "execution_count": 20,
      "outputs": [
        {
          "output_type": "stream",
          "text": [
            "Data Generator mean=0.131, std=0.308\n"
          ],
          "name": "stdout"
        }
      ]
    },
    {
      "cell_type": "code",
      "metadata": {
        "id": "VLSCqLlzj6CH",
        "colab_type": "code",
        "outputId": "9582d7f4-2d1e-46a4-a121-c4d3e29e67db",
        "colab": {
          "base_uri": "https://localhost:8080/",
          "height": 34
        }
      },
      "source": [
        "train_iterator = datagen.flow(X_train, Y_train, batch_size=32)\n",
        "batchX, batchy = train_iterator.next()\n",
        "print(batchX.shape, batchX.mean(), batchX.std(), batchX.min(), batchX.max())"
      ],
      "execution_count": 21,
      "outputs": [
        {
          "output_type": "stream",
          "text": [
            "(32, 28, 28, 1) -0.011003728 0.9798813 -0.42407304 2.821534\n"
          ],
          "name": "stdout"
        }
      ]
    },
    {
      "cell_type": "code",
      "metadata": {
        "id": "OpAXuQN87ln1",
        "colab_type": "code",
        "colab": {}
      },
      "source": [
        "val_iterator = datagen.flow(X_test, Y_test)"
      ],
      "execution_count": 0,
      "outputs": []
    },
    {
      "cell_type": "code",
      "metadata": {
        "id": "bb6tDkcq8BEl",
        "colab_type": "code",
        "outputId": "2fd3c30a-27ec-400d-d96f-9aed30a6513c",
        "colab": {
          "base_uri": "https://localhost:8080/",
          "height": 34
        }
      },
      "source": [
        "print('Batches train=%d, val=%d' % (len(train_iterator), len(val_iterator)))"
      ],
      "execution_count": 32,
      "outputs": [
        {
          "output_type": "stream",
          "text": [
            "Batches train=1875, val=313\n"
          ],
          "name": "stdout"
        }
      ]
    },
    {
      "cell_type": "markdown",
      "metadata": {
        "id": "yQC42jNYjFZQ",
        "colab_type": "text"
      },
      "source": [
        "###  1) L2 Regularization with lambda=1\n",
        "\n",
        "###  2) Adding ReLU after BN"
      ]
    },
    {
      "cell_type": "code",
      "metadata": {
        "id": "KYeS52TKi8Jp",
        "colab_type": "code",
        "outputId": "f79acac1-882c-4997-a397-1fecc8fe6fb5",
        "colab": {
          "base_uri": "https://localhost:8080/",
          "height": 1000
        }
      },
      "source": [
        "import keras.backend as K\n",
        "\n",
        "def custom_loss(lambd):\n",
        "  def reg_term(lambd):\n",
        "    w2 = 0\n",
        "    for i in range(len(model.layers)):\n",
        "      if len(model.layers[i].get_weights())>0:\n",
        "        t = np.sum(model.layers[i].get_weights()[0] * model.layers[i].get_weights()[0])\n",
        "        w2 = w2+t\n",
        "      w2 = w2*(lambd/(2*X_train.shape[0]))\n",
        "    return w2\n",
        "\n",
        "  # Define custom loss\n",
        "  def loss_l2(y_true, y_pred):\n",
        "      return K.categorical_crossentropy(y_true, y_pred) + reg_term(lambd)\n",
        "    \n",
        "  return loss_l2\n",
        "\n",
        "def scheduler(epoch, lr):\n",
        "  return round(0.003 * 1/(1 + 0.319 * epoch), 10)\n",
        "\n",
        "from keras.layers import Activation\n",
        "from keras.optimizers import Adam\n",
        "model = Sequential()\n",
        "\n",
        " \n",
        "model.add(Convolution2D(8, 3, 3, input_shape=(28,28,1))) # 26\n",
        "model.add(BatchNormalization())\n",
        "model.add(Activation('relu'))\n",
        "model.add(Dropout(0.05))\n",
        "\n",
        "model.add(Convolution2D(16, 3, 3)) # 24\n",
        "model.add(BatchNormalization())\n",
        "model.add(Activation('relu'))\n",
        "model.add(Dropout(0.05))\n",
        "model.add(Convolution2D(24, 3, 3)) # 22\n",
        "model.add(BatchNormalization())\n",
        "model.add(Activation('relu'))\n",
        "\n",
        "model.add(Dropout(0.05))\n",
        "\n",
        "model.add(MaxPooling2D(pool_size=(2, 2))) # 11\n",
        "model.add(Convolution2D(8, 1, 1)) # 11\n",
        "model.add(BatchNormalization())\n",
        "model.add(Activation('relu'))\n",
        "model.add(Dropout(0.05))\n",
        "\n",
        "model.add(Convolution2D(16, 3, 3)) # 9\n",
        "model.add(BatchNormalization())\n",
        "model.add(Activation('relu'))\n",
        "model.add(Dropout(0.05))\n",
        "model.add(Convolution2D(24, 3, 3)) # 7\n",
        "model.add(BatchNormalization())\n",
        "model.add(Activation('relu'))\n",
        "\n",
        "model.add(Dropout(0.05))\n",
        "\n",
        "model.add(Convolution2D(10, 1)) #7\n",
        "model.add(BatchNormalization())\n",
        "model.add(Activation('relu'))\n",
        "model.add(Dropout(0.05))\n",
        "model.add(Convolution2D(10, 7))\n",
        "model.add(Flatten())\n",
        "model.add(Activation('softmax'))\n",
        "\n",
        "model.summary()\n",
        "model.compile(loss=custom_loss(1),\n",
        "             optimizer=Adam(lr=0.003),\n",
        "             metrics=['accuracy'])\n",
        "checkpoint = ModelCheckpoint(root_path+'model_assignment_5f.h5', save_best_only=True,monitor='val_acc')"
      ],
      "execution_count": 24,
      "outputs": [
        {
          "output_type": "stream",
          "text": [
            "WARNING:tensorflow:From /usr/local/lib/python3.6/dist-packages/keras/backend/tensorflow_backend.py:66: The name tf.get_default_graph is deprecated. Please use tf.compat.v1.get_default_graph instead.\n",
            "\n",
            "WARNING:tensorflow:From /usr/local/lib/python3.6/dist-packages/keras/backend/tensorflow_backend.py:541: The name tf.placeholder is deprecated. Please use tf.compat.v1.placeholder instead.\n",
            "\n",
            "WARNING:tensorflow:From /usr/local/lib/python3.6/dist-packages/keras/backend/tensorflow_backend.py:4432: The name tf.random_uniform is deprecated. Please use tf.random.uniform instead.\n",
            "\n",
            "WARNING:tensorflow:From /usr/local/lib/python3.6/dist-packages/keras/backend/tensorflow_backend.py:190: The name tf.get_default_session is deprecated. Please use tf.compat.v1.get_default_session instead.\n",
            "\n",
            "WARNING:tensorflow:From /usr/local/lib/python3.6/dist-packages/keras/backend/tensorflow_backend.py:197: The name tf.ConfigProto is deprecated. Please use tf.compat.v1.ConfigProto instead.\n",
            "\n"
          ],
          "name": "stdout"
        },
        {
          "output_type": "stream",
          "text": [
            "/usr/local/lib/python3.6/dist-packages/ipykernel_launcher.py:27: UserWarning: Update your `Conv2D` call to the Keras 2 API: `Conv2D(8, (3, 3), input_shape=(28, 28, 1...)`\n"
          ],
          "name": "stderr"
        },
        {
          "output_type": "stream",
          "text": [
            "WARNING:tensorflow:From /usr/local/lib/python3.6/dist-packages/keras/backend/tensorflow_backend.py:2041: The name tf.nn.fused_batch_norm is deprecated. Please use tf.compat.v1.nn.fused_batch_norm instead.\n",
            "\n",
            "WARNING:tensorflow:From /usr/local/lib/python3.6/dist-packages/keras/backend/tensorflow_backend.py:3733: calling dropout (from tensorflow.python.ops.nn_ops) with keep_prob is deprecated and will be removed in a future version.\n",
            "Instructions for updating:\n",
            "Please use `rate` instead of `keep_prob`. Rate should be set to `rate = 1 - keep_prob`.\n"
          ],
          "name": "stdout"
        },
        {
          "output_type": "stream",
          "text": [
            "/usr/local/lib/python3.6/dist-packages/ipykernel_launcher.py:32: UserWarning: Update your `Conv2D` call to the Keras 2 API: `Conv2D(16, (3, 3))`\n"
          ],
          "name": "stderr"
        },
        {
          "output_type": "stream",
          "text": [
            "WARNING:tensorflow:From /usr/local/lib/python3.6/dist-packages/keras/backend/tensorflow_backend.py:4267: The name tf.nn.max_pool is deprecated. Please use tf.nn.max_pool2d instead.\n",
            "\n"
          ],
          "name": "stdout"
        },
        {
          "output_type": "stream",
          "text": [
            "/usr/local/lib/python3.6/dist-packages/ipykernel_launcher.py:36: UserWarning: Update your `Conv2D` call to the Keras 2 API: `Conv2D(24, (3, 3))`\n",
            "/usr/local/lib/python3.6/dist-packages/ipykernel_launcher.py:43: UserWarning: Update your `Conv2D` call to the Keras 2 API: `Conv2D(8, (1, 1))`\n",
            "/usr/local/lib/python3.6/dist-packages/ipykernel_launcher.py:48: UserWarning: Update your `Conv2D` call to the Keras 2 API: `Conv2D(16, (3, 3))`\n",
            "/usr/local/lib/python3.6/dist-packages/ipykernel_launcher.py:52: UserWarning: Update your `Conv2D` call to the Keras 2 API: `Conv2D(24, (3, 3))`\n"
          ],
          "name": "stderr"
        },
        {
          "output_type": "stream",
          "text": [
            "Model: \"sequential_1\"\n",
            "_________________________________________________________________\n",
            "Layer (type)                 Output Shape              Param #   \n",
            "=================================================================\n",
            "conv2d_1 (Conv2D)            (None, 26, 26, 8)         80        \n",
            "_________________________________________________________________\n",
            "batch_normalization_1 (Batch (None, 26, 26, 8)         32        \n",
            "_________________________________________________________________\n",
            "activation_1 (Activation)    (None, 26, 26, 8)         0         \n",
            "_________________________________________________________________\n",
            "dropout_1 (Dropout)          (None, 26, 26, 8)         0         \n",
            "_________________________________________________________________\n",
            "conv2d_2 (Conv2D)            (None, 24, 24, 16)        1168      \n",
            "_________________________________________________________________\n",
            "batch_normalization_2 (Batch (None, 24, 24, 16)        64        \n",
            "_________________________________________________________________\n",
            "activation_2 (Activation)    (None, 24, 24, 16)        0         \n",
            "_________________________________________________________________\n",
            "dropout_2 (Dropout)          (None, 24, 24, 16)        0         \n",
            "_________________________________________________________________\n",
            "conv2d_3 (Conv2D)            (None, 22, 22, 24)        3480      \n",
            "_________________________________________________________________\n",
            "batch_normalization_3 (Batch (None, 22, 22, 24)        96        \n",
            "_________________________________________________________________\n",
            "activation_3 (Activation)    (None, 22, 22, 24)        0         \n",
            "_________________________________________________________________\n",
            "dropout_3 (Dropout)          (None, 22, 22, 24)        0         \n",
            "_________________________________________________________________\n",
            "max_pooling2d_1 (MaxPooling2 (None, 11, 11, 24)        0         \n",
            "_________________________________________________________________\n",
            "conv2d_4 (Conv2D)            (None, 11, 11, 8)         200       \n",
            "_________________________________________________________________\n",
            "batch_normalization_4 (Batch (None, 11, 11, 8)         32        \n",
            "_________________________________________________________________\n",
            "activation_4 (Activation)    (None, 11, 11, 8)         0         \n",
            "_________________________________________________________________\n",
            "dropout_4 (Dropout)          (None, 11, 11, 8)         0         \n",
            "_________________________________________________________________\n",
            "conv2d_5 (Conv2D)            (None, 9, 9, 16)          1168      \n",
            "_________________________________________________________________\n",
            "batch_normalization_5 (Batch (None, 9, 9, 16)          64        \n",
            "_________________________________________________________________\n",
            "activation_5 (Activation)    (None, 9, 9, 16)          0         \n",
            "_________________________________________________________________\n",
            "dropout_5 (Dropout)          (None, 9, 9, 16)          0         \n",
            "_________________________________________________________________\n",
            "conv2d_6 (Conv2D)            (None, 7, 7, 24)          3480      \n",
            "_________________________________________________________________\n",
            "batch_normalization_6 (Batch (None, 7, 7, 24)          96        \n",
            "_________________________________________________________________\n",
            "activation_6 (Activation)    (None, 7, 7, 24)          0         \n",
            "_________________________________________________________________\n",
            "dropout_6 (Dropout)          (None, 7, 7, 24)          0         \n",
            "_________________________________________________________________\n",
            "conv2d_7 (Conv2D)            (None, 7, 7, 10)          250       \n",
            "_________________________________________________________________\n",
            "batch_normalization_7 (Batch (None, 7, 7, 10)          40        \n",
            "_________________________________________________________________\n",
            "activation_7 (Activation)    (None, 7, 7, 10)          0         \n",
            "_________________________________________________________________\n",
            "dropout_7 (Dropout)          (None, 7, 7, 10)          0         \n",
            "_________________________________________________________________\n",
            "conv2d_8 (Conv2D)            (None, 1, 1, 10)          4910      \n",
            "_________________________________________________________________\n",
            "flatten_1 (Flatten)          (None, 10)                0         \n",
            "_________________________________________________________________\n",
            "activation_8 (Activation)    (None, 10)                0         \n",
            "=================================================================\n",
            "Total params: 15,160\n",
            "Trainable params: 14,948\n",
            "Non-trainable params: 212\n",
            "_________________________________________________________________\n",
            "WARNING:tensorflow:From /usr/local/lib/python3.6/dist-packages/keras/optimizers.py:793: The name tf.train.Optimizer is deprecated. Please use tf.compat.v1.train.Optimizer instead.\n",
            "\n"
          ],
          "name": "stdout"
        }
      ]
    },
    {
      "cell_type": "code",
      "metadata": {
        "id": "14MzrPZ1lFrr",
        "colab_type": "code",
        "outputId": "8f231719-29ca-4555-e9a1-4976931f1f8b",
        "colab": {
          "base_uri": "https://localhost:8080/",
          "height": 1000
        }
      },
      "source": [
        "model.fit_generator(train_iterator, validation_data=val_iterator, epochs=40, validation_freq=1, verbose=1, callbacks=[LearningRateScheduler(scheduler, verbose=1),checkpoint])"
      ],
      "execution_count": 0,
      "outputs": [
        {
          "output_type": "stream",
          "text": [
            "Epoch 1/40\n",
            "\n",
            "Epoch 00001: LearningRateScheduler setting learning rate to 0.003.\n",
            "1875/1875 [==============================] - 35s 19ms/step - loss: 0.1349 - acc: 0.9587 - val_loss: 0.0551 - val_acc: 0.9821\n",
            "Epoch 2/40\n",
            "\n",
            "Epoch 00002: LearningRateScheduler setting learning rate to 0.0022744503.\n",
            "1875/1875 [==============================] - 28s 15ms/step - loss: 0.0582 - acc: 0.9819 - val_loss: 0.0375 - val_acc: 0.9876\n",
            "Epoch 3/40\n",
            "\n",
            "Epoch 00003: LearningRateScheduler setting learning rate to 0.0018315018.\n",
            "1875/1875 [==============================] - 27s 15ms/step - loss: 0.0445 - acc: 0.9866 - val_loss: 0.0310 - val_acc: 0.9901\n",
            "Epoch 4/40\n",
            "\n",
            "Epoch 00004: LearningRateScheduler setting learning rate to 0.0015329586.\n",
            "1875/1875 [==============================] - 27s 15ms/step - loss: 0.0374 - acc: 0.9884 - val_loss: 0.0343 - val_acc: 0.9889\n",
            "Epoch 5/40\n",
            "\n",
            "Epoch 00005: LearningRateScheduler setting learning rate to 0.0013181019.\n",
            "1875/1875 [==============================] - 27s 15ms/step - loss: 0.0336 - acc: 0.9892 - val_loss: 0.0302 - val_acc: 0.9901\n",
            "Epoch 6/40\n",
            "\n",
            "Epoch 00006: LearningRateScheduler setting learning rate to 0.0011560694.\n",
            "1875/1875 [==============================] - 27s 14ms/step - loss: 0.0290 - acc: 0.9906 - val_loss: 0.0238 - val_acc: 0.9935\n",
            "Epoch 7/40\n",
            "\n",
            "Epoch 00007: LearningRateScheduler setting learning rate to 0.0010295127.\n",
            "1875/1875 [==============================] - 27s 14ms/step - loss: 0.0241 - acc: 0.9922 - val_loss: 0.0243 - val_acc: 0.9923\n",
            "Epoch 8/40\n",
            "\n",
            "Epoch 00008: LearningRateScheduler setting learning rate to 0.0009279307.\n",
            "1875/1875 [==============================] - 27s 14ms/step - loss: 0.0228 - acc: 0.9925 - val_loss: 0.0238 - val_acc: 0.9924\n",
            "Epoch 9/40\n",
            "\n",
            "Epoch 00009: LearningRateScheduler setting learning rate to 0.0008445946.\n",
            "1875/1875 [==============================] - 27s 15ms/step - loss: 0.0199 - acc: 0.9935 - val_loss: 0.0215 - val_acc: 0.9934\n",
            "Epoch 10/40\n",
            "\n",
            "Epoch 00010: LearningRateScheduler setting learning rate to 0.0007749935.\n",
            "1875/1875 [==============================] - 27s 15ms/step - loss: 0.0191 - acc: 0.9938 - val_loss: 0.0201 - val_acc: 0.9931\n",
            "Epoch 11/40\n",
            "\n",
            "Epoch 00011: LearningRateScheduler setting learning rate to 0.0007159905.\n",
            "1875/1875 [==============================] - 28s 15ms/step - loss: 0.0190 - acc: 0.9938 - val_loss: 0.0232 - val_acc: 0.9937\n",
            "Epoch 12/40\n",
            "\n",
            "Epoch 00012: LearningRateScheduler setting learning rate to 0.000665336.\n",
            "1875/1875 [==============================] - 28s 15ms/step - loss: 0.0165 - acc: 0.9946 - val_loss: 0.0189 - val_acc: 0.9939\n",
            "Epoch 13/40\n",
            "\n",
            "Epoch 00013: LearningRateScheduler setting learning rate to 0.0006213753.\n",
            "1875/1875 [==============================] - 28s 15ms/step - loss: 0.0153 - acc: 0.9948 - val_loss: 0.0205 - val_acc: 0.9939\n",
            "Epoch 14/40\n",
            "\n",
            "Epoch 00014: LearningRateScheduler setting learning rate to 0.0005828638.\n",
            "1875/1875 [==============================] - 28s 15ms/step - loss: 0.0150 - acc: 0.9948 - val_loss: 0.0180 - val_acc: 0.9947\n",
            "Epoch 15/40\n",
            "\n",
            "Epoch 00015: LearningRateScheduler setting learning rate to 0.0005488474.\n",
            "1875/1875 [==============================] - 28s 15ms/step - loss: 0.0148 - acc: 0.9953 - val_loss: 0.0186 - val_acc: 0.9948\n",
            "Epoch 16/40\n",
            "\n",
            "Epoch 00016: LearningRateScheduler setting learning rate to 0.0005185825.\n",
            "1875/1875 [==============================] - 28s 15ms/step - loss: 0.0140 - acc: 0.9952 - val_loss: 0.0207 - val_acc: 0.9933\n",
            "Epoch 17/40\n",
            "\n",
            "Epoch 00017: LearningRateScheduler setting learning rate to 0.000491481.\n",
            "1875/1875 [==============================] - 28s 15ms/step - loss: 0.0118 - acc: 0.9965 - val_loss: 0.0204 - val_acc: 0.9941\n",
            "Epoch 18/40\n",
            "\n",
            "Epoch 00018: LearningRateScheduler setting learning rate to 0.0004670715.\n",
            "1875/1875 [==============================] - 28s 15ms/step - loss: 0.0122 - acc: 0.9961 - val_loss: 0.0182 - val_acc: 0.9945\n",
            "Epoch 19/40\n",
            "\n",
            "Epoch 00019: LearningRateScheduler setting learning rate to 0.0004449718.\n",
            "1875/1875 [==============================] - 28s 15ms/step - loss: 0.0119 - acc: 0.9960 - val_loss: 0.0208 - val_acc: 0.9937\n",
            "Epoch 20/40\n",
            "\n",
            "Epoch 00020: LearningRateScheduler setting learning rate to 0.000424869.\n",
            "1875/1875 [==============================] - 28s 15ms/step - loss: 0.0108 - acc: 0.9961 - val_loss: 0.0201 - val_acc: 0.9935\n",
            "Epoch 21/40\n",
            "\n",
            "Epoch 00021: LearningRateScheduler setting learning rate to 0.0004065041.\n",
            "1875/1875 [==============================] - 28s 15ms/step - loss: 0.0117 - acc: 0.9966 - val_loss: 0.0216 - val_acc: 0.9940\n",
            "Epoch 22/40\n",
            "\n",
            "Epoch 00022: LearningRateScheduler setting learning rate to 0.000389661.\n",
            "1875/1875 [==============================] - 28s 15ms/step - loss: 0.0115 - acc: 0.9960 - val_loss: 0.0197 - val_acc: 0.9947\n",
            "Epoch 23/40\n",
            "\n",
            "Epoch 00023: LearningRateScheduler setting learning rate to 0.0003741581.\n",
            "1875/1875 [==============================] - 28s 15ms/step - loss: 0.0102 - acc: 0.9965 - val_loss: 0.0217 - val_acc: 0.9933\n",
            "Epoch 24/40\n",
            "\n",
            "Epoch 00024: LearningRateScheduler setting learning rate to 0.0003598417.\n",
            "1875/1875 [==============================] - 27s 15ms/step - loss: 0.0097 - acc: 0.9966 - val_loss: 0.0200 - val_acc: 0.9944\n",
            "Epoch 25/40\n",
            "\n",
            "Epoch 00025: LearningRateScheduler setting learning rate to 0.0003465804.\n",
            "1875/1875 [==============================] - 28s 15ms/step - loss: 0.0097 - acc: 0.9970 - val_loss: 0.0188 - val_acc: 0.9947\n",
            "Epoch 26/40\n",
            "\n",
            "Epoch 00026: LearningRateScheduler setting learning rate to 0.0003342618.\n",
            "1875/1875 [==============================] - 27s 15ms/step - loss: 0.0093 - acc: 0.9969 - val_loss: 0.0213 - val_acc: 0.9942\n",
            "Epoch 27/40\n",
            "\n",
            "Epoch 00027: LearningRateScheduler setting learning rate to 0.0003227889.\n",
            "1875/1875 [==============================] - 27s 15ms/step - loss: 0.0095 - acc: 0.9969 - val_loss: 0.0221 - val_acc: 0.9935\n",
            "Epoch 28/40\n",
            "\n",
            "Epoch 00028: LearningRateScheduler setting learning rate to 0.0003120774.\n",
            "1875/1875 [==============================] - 28s 15ms/step - loss: 0.0090 - acc: 0.9969 - val_loss: 0.0194 - val_acc: 0.9949\n",
            "Epoch 29/40\n",
            "\n",
            "Epoch 00029: LearningRateScheduler setting learning rate to 0.000302054.\n",
            "1875/1875 [==============================] - 28s 15ms/step - loss: 0.0088 - acc: 0.9968 - val_loss: 0.0218 - val_acc: 0.9939\n",
            "Epoch 30/40\n",
            "\n",
            "Epoch 00030: LearningRateScheduler setting learning rate to 0.0002926544.\n",
            "1875/1875 [==============================] - 28s 15ms/step - loss: 0.0081 - acc: 0.9974 - val_loss: 0.0209 - val_acc: 0.9945\n",
            "Epoch 31/40\n",
            "\n",
            "Epoch 00031: LearningRateScheduler setting learning rate to 0.0002838221.\n",
            "1875/1875 [==============================] - 28s 15ms/step - loss: 0.0081 - acc: 0.9975 - val_loss: 0.0223 - val_acc: 0.9943\n",
            "Epoch 32/40\n",
            "\n",
            "Epoch 00032: LearningRateScheduler setting learning rate to 0.0002755074.\n",
            "1875/1875 [==============================] - 28s 15ms/step - loss: 0.0080 - acc: 0.9973 - val_loss: 0.0233 - val_acc: 0.9936\n",
            "Epoch 33/40\n",
            "\n",
            "Epoch 00033: LearningRateScheduler setting learning rate to 0.000267666.\n",
            "1875/1875 [==============================] - 28s 15ms/step - loss: 0.0086 - acc: 0.9970 - val_loss: 0.0221 - val_acc: 0.9946\n",
            "Epoch 34/40\n",
            "\n",
            "Epoch 00034: LearningRateScheduler setting learning rate to 0.0002602585.\n",
            "1875/1875 [==============================] - 28s 15ms/step - loss: 0.0082 - acc: 0.9974 - val_loss: 0.0206 - val_acc: 0.9946\n",
            "Epoch 35/40\n",
            "\n",
            "Epoch 00035: LearningRateScheduler setting learning rate to 0.00025325.\n",
            "1875/1875 [==============================] - 28s 15ms/step - loss: 0.0077 - acc: 0.9976 - val_loss: 0.0218 - val_acc: 0.9937\n",
            "Epoch 36/40\n",
            "\n",
            "Epoch 00036: LearningRateScheduler setting learning rate to 0.0002466091.\n",
            "1875/1875 [==============================] - 28s 15ms/step - loss: 0.0078 - acc: 0.9973 - val_loss: 0.0219 - val_acc: 0.9946\n",
            "Epoch 37/40\n",
            "\n",
            "Epoch 00037: LearningRateScheduler setting learning rate to 0.0002403076.\n",
            "1875/1875 [==============================] - 28s 15ms/step - loss: 0.0070 - acc: 0.9976 - val_loss: 0.0220 - val_acc: 0.9945\n",
            "Epoch 38/40\n",
            "\n",
            "Epoch 00038: LearningRateScheduler setting learning rate to 0.0002343201.\n",
            "1875/1875 [==============================] - 27s 15ms/step - loss: 0.0075 - acc: 0.9977 - val_loss: 0.0227 - val_acc: 0.9941\n",
            "Epoch 39/40\n",
            "\n",
            "Epoch 00039: LearningRateScheduler setting learning rate to 0.0002286237.\n",
            "1875/1875 [==============================] - 27s 15ms/step - loss: 0.0071 - acc: 0.9976 - val_loss: 0.0219 - val_acc: 0.9944\n",
            "Epoch 40/40\n",
            "\n",
            "Epoch 00040: LearningRateScheduler setting learning rate to 0.0002231977.\n",
            "1875/1875 [==============================] - 27s 15ms/step - loss: 0.0079 - acc: 0.9974 - val_loss: 0.0215 - val_acc: 0.9946\n"
          ],
          "name": "stdout"
        },
        {
          "output_type": "execute_result",
          "data": {
            "text/plain": [
              "<keras.callbacks.History at 0x7f3874f6d2e8>"
            ]
          },
          "metadata": {
            "tags": []
          },
          "execution_count": 102
        }
      ]
    },
    {
      "cell_type": "markdown",
      "metadata": {
        "id": "5UynDYoZnk-8",
        "colab_type": "text"
      },
      "source": [
        "Model accuracy 99.49 (28th epoch)"
      ]
    },
    {
      "cell_type": "markdown",
      "metadata": {
        "id": "YsSZE1B5hYtE",
        "colab_type": "text"
      },
      "source": [
        "###Printing misclassified images"
      ]
    },
    {
      "cell_type": "code",
      "metadata": {
        "id": "JaCd2D7rhx35",
        "colab_type": "code",
        "colab": {}
      },
      "source": [
        "val_iterator_no_shuffle = datagen.flow(X_test, Y_test, shuffle=False)\n",
        "\n",
        "prediction = np.round(model.predict_generator(val_iterator_no_shuffle))\n",
        "\n",
        "from numpy import argmax\n",
        "Y_test_=argmax(Y_test, axis=1)\n",
        "prediction_ = argmax(prediction, axis=1)\n",
        "\n",
        "wrong_prediction_indices = (prediction_ != Y_test_)"
      ],
      "execution_count": 0,
      "outputs": []
    },
    {
      "cell_type": "code",
      "metadata": {
        "id": "XX-1B1cIiAo5",
        "colab_type": "code",
        "outputId": "d8889e9b-1c0c-40ca-f77b-4ad747b1e481",
        "colab": {
          "base_uri": "https://localhost:8080/",
          "height": 1000
        }
      },
      "source": [
        "plot_x, plot_y = 5, 5\n",
        "fig, ax = plt.subplots(plot_x, plot_y, figsize = (28, 28))\n",
        "\n",
        "misclassification_count = 0\n",
        "x = 0\n",
        "y = 0\n",
        "for index, value in enumerate(wrong_prediction_indices):\n",
        "  if(value):\n",
        "    ax[x, y].imshow(X_test[index].reshape(28,28))\n",
        "    ax[x, y].set_title('Predicted Value %d' % (prediction_[index]))\n",
        "    misclassification_count = misclassification_count+1\n",
        "    if(x<5 and y<4):\n",
        "      y = y+1\n",
        "    elif(x<4 and y==4):\n",
        "      x = x+1\n",
        "      y = 0\n",
        "    \n",
        "    if(misclassification_count==25):\n",
        "      break"
      ],
      "execution_count": 26,
      "outputs": [
        {
          "output_type": "display_data",
          "data": {
            "image/png": "[encoded data removed]",
            "text/plain": [
              "<Figure size 2016x2016 with 25 Axes>"
            ]
          },
          "metadata": {
            "tags": []
          }
        }
      ]
    },
    {
      "cell_type": "code",
      "metadata": {
        "id": "_wN52wBIi1Ci",
        "colab_type": "code",
        "colab": {}
      },
      "source": [
        ""
      ],
      "execution_count": 0,
      "outputs": []
    }
  ]
}