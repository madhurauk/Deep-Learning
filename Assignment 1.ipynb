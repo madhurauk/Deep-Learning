{
  "nbformat": 4,
  "nbformat_minor": 0,
  "metadata": {
    "colab": {
      "name": "1st DNN.ipynb",
      "version": "0.3.2",
      "provenance": [],
      "collapsed_sections": []
    },
    "kernelspec": {
      "name": "python3",
      "display_name": "Python 3"
    },
    "accelerator": "GPU"
  },
  "cells": [
    {
      "cell_type": "markdown",
      "metadata": {
        "id": "aNyZv-Ec52ot",
        "colab_type": "text"
      },
      "source": [
        "# **Import Libraries and modules**"
      ]
    },
    {
      "cell_type": "markdown",
      "metadata": {
        "id": "E6T339pdhTyw",
        "colab_type": "text"
      },
      "source": [
        "Installing and importing keras (python library for creating and working with neural networks)"
      ]
    },
    {
      "cell_type": "code",
      "metadata": {
        "id": "3m3w1Cw49Zkt",
        "colab_type": "code",
        "outputId": "38ee9bb8-4f7b-46ad-f5f7-7e6d505e1c6a",
        "colab": {
          "base_uri": "https://localhost:8080/",
          "height": 34
        }
      },
      "source": [
        "# https://keras.io/\n",
        "!pip install -q keras\n",
        "import keras"
      ],
      "execution_count": 0,
      "outputs": [
        {
          "output_type": "stream",
          "text": [
            "Using TensorFlow backend.\n"
          ],
          "name": "stderr"
        }
      ]
    },
    {
      "cell_type": "markdown",
      "metadata": {
        "id": "8r6WelQ-hZzf",
        "colab_type": "text"
      },
      "source": [
        "Importing the required libraries\n",
        "\n",
        "- numpy (python library for performing optimized numeric computations on multi dimensional arrays)\n",
        "- Sequential model (a linear stack of layers) from keras.models\n",
        "- Dense (used to create densely connected neural network)\n",
        "- Dropout (used to make some neurons zero)\n",
        "- Activation\n",
        "- Flatten (used to convert to 1D)\n",
        "- Add\n",
        "- Convolution2D (used to add 2D Convolutional layers)\n",
        "- MaxPooling2D\n",
        "- np_utils (numpy related utilities)  \n",
        "- EarlyStopping\n",
        "\n",
        "Importing mnist which is the dataset of images of handwritten digits"
      ]
    },
    {
      "cell_type": "code",
      "metadata": {
        "id": "Eso6UHE080D4",
        "colab_type": "code",
        "colab": {}
      },
      "source": [
        "import numpy as np\n",
        "\n",
        "from keras.models import Sequential\n",
        "from keras.layers import Dense, Dropout, Activation, Flatten, Add\n",
        "from keras.layers import Convolution2D, MaxPooling2D\n",
        "from keras.utils import np_utils\n",
        "from keras.callbacks import EarlyStopping\n",
        "\n",
        "from keras.datasets import mnist"
      ],
      "execution_count": 0,
      "outputs": []
    },
    {
      "cell_type": "markdown",
      "metadata": {
        "id": "zByEi95J86RD",
        "colab_type": "text"
      },
      "source": [
        "### Load pre-shuffled MNIST data into train and test sets"
      ]
    },
    {
      "cell_type": "markdown",
      "metadata": {
        "id": "RFKUiYJJkA2b",
        "colab_type": "text"
      },
      "source": [
        "Loading the data from mnist dataset into X_train, y_train, X_test, y_test which are numpy ndarrays (n dimensional arrays)"
      ]
    },
    {
      "cell_type": "code",
      "metadata": {
        "id": "7eRM0QWN83PV",
        "colab_type": "code",
        "outputId": "d785b2ae-5d61-497a-e275-b5d494014d65",
        "colab": {
          "base_uri": "https://localhost:8080/",
          "height": 51
        }
      },
      "source": [
        "(X_train, y_train), (X_test, y_test) = mnist.load_data()"
      ],
      "execution_count": 0,
      "outputs": [
        {
          "output_type": "stream",
          "text": [
            "Downloading data from https://s3.amazonaws.com/img-datasets/mnist.npz\n",
            "11493376/11490434 [==============================] - 2s 0us/step\n"
          ],
          "name": "stdout"
        }
      ]
    },
    {
      "cell_type": "markdown",
      "metadata": {
        "id": "zAfv2uBDkEmn",
        "colab_type": "text"
      },
      "source": [
        "- X_train.shape prints the dimensions of the nd array. It consists of pixel values for 60000 images, each of 28x28 pixels\n",
        "- matplotlib is the library for plotting in python\n",
        "- pyplot is a MATLAB-like plotting framework for python\n",
        "- %matplotlib inline sets the backend of matplotlib to 'inline' which will print the output of plotting commands inline\n",
        "- imshow plots the image"
      ]
    },
    {
      "cell_type": "code",
      "metadata": {
        "id": "4a4Be72j8-ZC",
        "colab_type": "code",
        "outputId": "14957519-bcb6-4fc9-a3e6-08686a6d71da",
        "colab": {
          "base_uri": "https://localhost:8080/",
          "height": 303
        }
      },
      "source": [
        "print (X_train.shape)\n",
        "from matplotlib import pyplot as plt\n",
        "%matplotlib inline\n",
        "plt.imshow(X_train[0])"
      ],
      "execution_count": 0,
      "outputs": [
        {
          "output_type": "stream",
          "text": [
            "(60000, 28, 28)\n"
          ],
          "name": "stdout"
        },
        {
          "output_type": "execute_result",
          "data": {
            "text/plain": [
              "<matplotlib.image.AxesImage at 0x7f3e226dae80>"
            ]
          },
          "metadata": {
            "tags": []
          },
          "execution_count": 4
        },
        {
          "output_type": "display_data",
          "data": {
            "image/png": "[encoded data removed]",
            "text/plain": [
              "<Figure size 432x288 with 1 Axes>"
            ]
          },
          "metadata": {
            "tags": []
          }
        }
      ]
    },
    {
      "cell_type": "markdown",
      "metadata": {
        "id": "YmJKGJgjkRod",
        "colab_type": "text"
      },
      "source": [
        "- Reshaping each one of the 60000 images to 28x28x1 in X_train\n",
        "- Reshaping each one of the 10000 images to 28x28x1 in X_train"
      ]
    },
    {
      "cell_type": "code",
      "metadata": {
        "id": "dkmprriw9AnZ",
        "colab_type": "code",
        "colab": {}
      },
      "source": [
        "X_train = X_train.reshape(X_train.shape[0], 28, 28,1)\n",
        "X_test = X_test.reshape(X_test.shape[0], 28, 28,1)"
      ],
      "execution_count": 0,
      "outputs": []
    },
    {
      "cell_type": "markdown",
      "metadata": {
        "id": "L0O2PCvIkXJm",
        "colab_type": "text"
      },
      "source": [
        "- Type casting the pixel values in X_train and X_test to float32 data type\n",
        "- Normalizing the pixel values by diving by 255"
      ]
    },
    {
      "cell_type": "code",
      "metadata": {
        "id": "X2m4YS4E9CRh",
        "colab_type": "code",
        "colab": {}
      },
      "source": [
        "X_train = X_train.astype('float32')\n",
        "X_test = X_test.astype('float32')\n",
        "X_train /= 255\n",
        "X_test /= 255"
      ],
      "execution_count": 0,
      "outputs": []
    },
    {
      "cell_type": "markdown",
      "metadata": {
        "id": "93U9Dhkhk2JU",
        "colab_type": "text"
      },
      "source": [
        "- Printing the first 10 values in y_train"
      ]
    },
    {
      "cell_type": "code",
      "metadata": {
        "id": "0Mn0vAYD9DvB",
        "colab_type": "code",
        "outputId": "7ce83ac9-749a-4024-ed76-e2a17819cb10",
        "colab": {
          "base_uri": "https://localhost:8080/",
          "height": 34
        }
      },
      "source": [
        "y_train[:10]"
      ],
      "execution_count": 0,
      "outputs": [
        {
          "output_type": "execute_result",
          "data": {
            "text/plain": [
              "array([5, 0, 4, 1, 9, 2, 1, 3, 1, 4], dtype=uint8)"
            ]
          },
          "metadata": {
            "tags": []
          },
          "execution_count": 7
        }
      ]
    },
    {
      "cell_type": "markdown",
      "metadata": {
        "id": "3fMcfSp9k5k-",
        "colab_type": "text"
      },
      "source": [
        "- One-hot encoding the categorical data into a matrix form which can be fed into a ML model"
      ]
    },
    {
      "cell_type": "code",
      "metadata": {
        "id": "ZG8JiXR39FHC",
        "colab_type": "code",
        "colab": {}
      },
      "source": [
        "# Convert 1-dimensional class arrays to 10-dimensional class matrices\n",
        "Y_train = np_utils.to_categorical(y_train, 10)\n",
        "Y_test = np_utils.to_categorical(y_test, 10)"
      ],
      "execution_count": 0,
      "outputs": []
    },
    {
      "cell_type": "markdown",
      "metadata": {
        "id": "E8fvSlA2k8PV",
        "colab_type": "text"
      },
      "source": [
        "- Printing the value of first 10 entries in Y_train (after one-hot encoding)"
      ]
    },
    {
      "cell_type": "code",
      "metadata": {
        "id": "fYlFRvKS9HMB",
        "colab_type": "code",
        "outputId": "a3cb98fc-315a-4cb9-e329-ee202eddd0f5",
        "colab": {
          "base_uri": "https://localhost:8080/",
          "height": 187
        }
      },
      "source": [
        "Y_train[:10]"
      ],
      "execution_count": 0,
      "outputs": [
        {
          "output_type": "execute_result",
          "data": {
            "text/plain": [
              "array([[0., 0., 0., 0., 0., 1., 0., 0., 0., 0.],\n",
              "       [1., 0., 0., 0., 0., 0., 0., 0., 0., 0.],\n",
              "       [0., 0., 0., 0., 1., 0., 0., 0., 0., 0.],\n",
              "       [0., 1., 0., 0., 0., 0., 0., 0., 0., 0.],\n",
              "       [0., 0., 0., 0., 0., 0., 0., 0., 0., 1.],\n",
              "       [0., 0., 1., 0., 0., 0., 0., 0., 0., 0.],\n",
              "       [0., 1., 0., 0., 0., 0., 0., 0., 0., 0.],\n",
              "       [0., 0., 0., 1., 0., 0., 0., 0., 0., 0.],\n",
              "       [0., 1., 0., 0., 0., 0., 0., 0., 0., 0.],\n",
              "       [0., 0., 0., 0., 1., 0., 0., 0., 0., 0.]], dtype=float32)"
            ]
          },
          "metadata": {
            "tags": []
          },
          "execution_count": 9
        }
      ]
    },
    {
      "cell_type": "markdown",
      "metadata": {
        "id": "dOOyAXcklQX1",
        "colab_type": "text"
      },
      "source": [
        "- Import Activation keras.layers\n",
        "\n",
        "- Create a Sequential model and add convolutional layers to it, using ReLU activation function\n",
        "\n",
        "28x28x1    |  3x3x1x32        RF=3x3  \n",
        "26x26x32  |  1x1x32x10     \n",
        "26x26x10  |  26x26x10x10    \n",
        "1x1x10                             \n",
        "\n",
        "- Flatten operation which flattens the input\n",
        "- Add an Activation layer to perform softmax operation\n"
      ]
    },
    {
      "cell_type": "code",
      "metadata": {
        "id": "osKqT73Q9JJB",
        "colab_type": "code",
        "outputId": "ec0d3407-8f54-4761-dd34-5377c0adef55",
        "colab": {
          "base_uri": "https://localhost:8080/",
          "height": 190
        }
      },
      "source": [
        "from keras.layers import Activation\n",
        "model = Sequential()\n",
        "\n",
        " \n",
        "model.add(Convolution2D(32, 3, 3, activation='relu', input_shape=(28,28,1)))\n",
        "model.add(Convolution2D(10, 1, activation='relu'))\n",
        "model.add(Convolution2D(10, 26))\n",
        "model.add(Flatten())\n",
        "model.add(Activation('softmax'))"
      ],
      "execution_count": 0,
      "outputs": [
        {
          "output_type": "stream",
          "text": [
            "WARNING: Logging before flag parsing goes to stderr.\n",
            "W0817 04:56:58.856059 139906102675328 deprecation_wrapper.py:119] From /usr/local/lib/python3.6/dist-packages/keras/backend/tensorflow_backend.py:74: The name tf.get_default_graph is deprecated. Please use tf.compat.v1.get_default_graph instead.\n",
            "\n",
            "/usr/local/lib/python3.6/dist-packages/ipykernel_launcher.py:5: UserWarning: Update your `Conv2D` call to the Keras 2 API: `Conv2D(32, (3, 3), activation=\"relu\", input_shape=(28, 28, 1...)`\n",
            "  \"\"\"\n",
            "W0817 04:56:58.894526 139906102675328 deprecation_wrapper.py:119] From /usr/local/lib/python3.6/dist-packages/keras/backend/tensorflow_backend.py:517: The name tf.placeholder is deprecated. Please use tf.compat.v1.placeholder instead.\n",
            "\n",
            "W0817 04:56:58.902326 139906102675328 deprecation_wrapper.py:119] From /usr/local/lib/python3.6/dist-packages/keras/backend/tensorflow_backend.py:4138: The name tf.random_uniform is deprecated. Please use tf.random.uniform instead.\n",
            "\n"
          ],
          "name": "stderr"
        }
      ]
    },
    {
      "cell_type": "markdown",
      "metadata": {
        "id": "ZUwXfODtnPfh",
        "colab_type": "text"
      },
      "source": [
        "- Print model summary"
      ]
    },
    {
      "cell_type": "code",
      "metadata": {
        "id": "TzdAYg1k9K7Z",
        "colab_type": "code",
        "outputId": "60a4b6d7-1437-4185-d322-ae3f31b92f0d",
        "colab": {
          "base_uri": "https://localhost:8080/",
          "height": 306
        }
      },
      "source": [
        "model.summary()"
      ],
      "execution_count": 0,
      "outputs": [
        {
          "output_type": "stream",
          "text": [
            "_________________________________________________________________\n",
            "Layer (type)                 Output Shape              Param #   \n",
            "=================================================================\n",
            "conv2d_1 (Conv2D)            (None, 26, 26, 32)        320       \n",
            "_________________________________________________________________\n",
            "conv2d_2 (Conv2D)            (None, 26, 26, 10)        330       \n",
            "_________________________________________________________________\n",
            "conv2d_3 (Conv2D)            (None, 1, 1, 10)          67610     \n",
            "_________________________________________________________________\n",
            "flatten_1 (Flatten)          (None, 10)                0         \n",
            "_________________________________________________________________\n",
            "activation_1 (Activation)    (None, 10)                0         \n",
            "=================================================================\n",
            "Total params: 68,260\n",
            "Trainable params: 68,260\n",
            "Non-trainable params: 0\n",
            "_________________________________________________________________\n"
          ],
          "name": "stdout"
        }
      ]
    },
    {
      "cell_type": "markdown",
      "metadata": {
        "id": "ssNGaCoXoZAu",
        "colab_type": "text"
      },
      "source": [
        "- Configure the model for training. Specifying categorical_crossentropy as the loss function, adam as the optimizer and accuracy as the metric"
      ]
    },
    {
      "cell_type": "code",
      "metadata": {
        "id": "Zp6SuGrL9M3h",
        "colab_type": "code",
        "outputId": "08954b98-77a8-448a-9970-87e342d70a15",
        "colab": {
          "base_uri": "https://localhost:8080/",
          "height": 105
        }
      },
      "source": [
        "model.compile(loss='categorical_crossentropy',\n",
        "             optimizer='adam',\n",
        "             metrics=['accuracy'])"
      ],
      "execution_count": 0,
      "outputs": [
        {
          "output_type": "stream",
          "text": [
            "W0817 04:57:07.204702 139906102675328 deprecation_wrapper.py:119] From /usr/local/lib/python3.6/dist-packages/keras/optimizers.py:790: The name tf.train.Optimizer is deprecated. Please use tf.compat.v1.train.Optimizer instead.\n",
            "\n",
            "W0817 04:57:07.230408 139906102675328 deprecation_wrapper.py:119] From /usr/local/lib/python3.6/dist-packages/keras/backend/tensorflow_backend.py:3295: The name tf.log is deprecated. Please use tf.math.log instead.\n",
            "\n"
          ],
          "name": "stderr"
        }
      ]
    },
    {
      "cell_type": "markdown",
      "metadata": {
        "id": "vjm1HyWCofHP",
        "colab_type": "text"
      },
      "source": [
        "- Train the model using X_train and y_train for 10 epochs and batch size of 32"
      ]
    },
    {
      "cell_type": "code",
      "metadata": {
        "id": "4xWoKhPY9Of5",
        "colab_type": "code",
        "outputId": "3e00d70e-6d72-4fd3-f205-66c7d6cdaebc",
        "colab": {
          "base_uri": "https://localhost:8080/",
          "height": 513
        }
      },
      "source": [
        "model.fit(X_train, Y_train, batch_size=32, nb_epoch=10, verbose=1)"
      ],
      "execution_count": 0,
      "outputs": [
        {
          "output_type": "stream",
          "text": [
            "/usr/local/lib/python3.6/dist-packages/ipykernel_launcher.py:1: UserWarning: The `nb_epoch` argument in `fit` has been renamed `epochs`.\n",
            "  \"\"\"Entry point for launching an IPython kernel.\n",
            "W0817 04:57:15.607567 139906102675328 deprecation.py:323] From /usr/local/lib/python3.6/dist-packages/tensorflow/python/ops/math_grad.py:1250: add_dispatch_support.<locals>.wrapper (from tensorflow.python.ops.array_ops) is deprecated and will be removed in a future version.\n",
            "Instructions for updating:\n",
            "Use tf.where in 2.0, which has the same broadcast rule as np.where\n",
            "W0817 04:57:15.669565 139906102675328 deprecation_wrapper.py:119] From /usr/local/lib/python3.6/dist-packages/keras/backend/tensorflow_backend.py:986: The name tf.assign_add is deprecated. Please use tf.compat.v1.assign_add instead.\n",
            "\n"
          ],
          "name": "stderr"
        },
        {
          "output_type": "stream",
          "text": [
            "Epoch 1/10\n",
            "60000/60000 [==============================] - 13s 220us/step - loss: 0.2212 - acc: 0.9359\n",
            "Epoch 2/10\n",
            "60000/60000 [==============================] - 7s 115us/step - loss: 0.0806 - acc: 0.9757\n",
            "Epoch 3/10\n",
            "60000/60000 [==============================] - 7s 114us/step - loss: 0.0582 - acc: 0.9822\n",
            "Epoch 4/10\n",
            "60000/60000 [==============================] - 7s 114us/step - loss: 0.0469 - acc: 0.9852\n",
            "Epoch 5/10\n",
            "60000/60000 [==============================] - 7s 114us/step - loss: 0.0367 - acc: 0.9883\n",
            "Epoch 6/10\n",
            "60000/60000 [==============================] - 7s 115us/step - loss: 0.0287 - acc: 0.9910\n",
            "Epoch 7/10\n",
            "60000/60000 [==============================] - 7s 121us/step - loss: 0.0232 - acc: 0.9923\n",
            "Epoch 8/10\n",
            "60000/60000 [==============================] - 7s 115us/step - loss: 0.0178 - acc: 0.9941\n",
            "Epoch 9/10\n",
            "60000/60000 [==============================] - 7s 114us/step - loss: 0.0151 - acc: 0.9950\n",
            "Epoch 10/10\n",
            "60000/60000 [==============================] - 7s 114us/step - loss: 0.0119 - acc: 0.9959\n"
          ],
          "name": "stdout"
        },
        {
          "output_type": "execute_result",
          "data": {
            "text/plain": [
              "<keras.callbacks.History at 0x7f3e226e8630>"
            ]
          },
          "metadata": {
            "tags": []
          },
          "execution_count": 13
        }
      ]
    },
    {
      "cell_type": "markdown",
      "metadata": {
        "id": "_bbG4nX6olwx",
        "colab_type": "text"
      },
      "source": [
        "- Run the model in test mode"
      ]
    },
    {
      "cell_type": "code",
      "metadata": {
        "id": "AtsH-lLk-eLb",
        "colab_type": "code",
        "colab": {}
      },
      "source": [
        "score = model.evaluate(X_test, Y_test, verbose=0)"
      ],
      "execution_count": 0,
      "outputs": []
    },
    {
      "cell_type": "markdown",
      "metadata": {
        "id": "Hap2Y_rtoqg_",
        "colab_type": "text"
      },
      "source": [
        "- Print the result of above test (loss value and accuracy)"
      ]
    },
    {
      "cell_type": "code",
      "metadata": {
        "id": "mkX8JMv79q9r",
        "colab_type": "code",
        "outputId": "7a52d5a2-9ae7-4907-e7e1-23984ad1e222",
        "colab": {
          "base_uri": "https://localhost:8080/",
          "height": 34
        }
      },
      "source": [
        "print(score)"
      ],
      "execution_count": 0,
      "outputs": [
        {
          "output_type": "stream",
          "text": [
            "[0.09296982603095166, 0.9801]\n"
          ],
          "name": "stdout"
        }
      ]
    },
    {
      "cell_type": "markdown",
      "metadata": {
        "id": "LqOhA2qnoubw",
        "colab_type": "text"
      },
      "source": [
        "- Predict the output for X_test"
      ]
    },
    {
      "cell_type": "code",
      "metadata": {
        "id": "OCWoJkwE9suh",
        "colab_type": "code",
        "colab": {}
      },
      "source": [
        "y_pred = model.predict(X_test)"
      ],
      "execution_count": 0,
      "outputs": []
    },
    {
      "cell_type": "markdown",
      "metadata": {
        "id": "gkS6OyF5oyh5",
        "colab_type": "text"
      },
      "source": [
        "- Print the predicted output and actual output for X_test"
      ]
    },
    {
      "cell_type": "code",
      "metadata": {
        "id": "Ym7iCFBm9uBs",
        "colab_type": "code",
        "outputId": "70f16d3d-2a38-4dc9-cb32-02b6fa537167",
        "colab": {
          "base_uri": "https://localhost:8080/",
          "height": 340
        }
      },
      "source": [
        "print(y_pred[:9])\n",
        "print(y_test[:9])"
      ],
      "execution_count": 0,
      "outputs": [
        {
          "output_type": "stream",
          "text": [
            "[[9.5138753e-20 3.7500411e-20 2.5350229e-14 3.3563737e-07 4.7736460e-22\n",
            "  1.2082779e-17 1.5935858e-32 9.9999964e-01 2.0365239e-11 5.5304313e-11]\n",
            " [2.8460671e-12 4.0955818e-14 1.0000000e+00 8.5884745e-15 1.6836988e-21\n",
            "  6.1357161e-19 2.9816930e-11 9.1233353e-28 1.4972895e-14 5.6802731e-23]\n",
            " [3.1844144e-10 9.9995971e-01 1.5777773e-06 1.6884642e-10 2.3105560e-05\n",
            "  3.7688117e-10 2.0004862e-10 5.5474101e-07 1.5135188e-05 4.7009485e-10]\n",
            " [1.0000000e+00 7.4426512e-26 9.7388327e-11 1.9425543e-18 2.0805287e-19\n",
            "  2.0702477e-16 2.4778216e-10 2.5652874e-14 2.6018521e-13 3.1491225e-14]\n",
            " [6.9433620e-15 2.5338680e-18 5.5570787e-15 2.8943826e-13 1.0000000e+00\n",
            "  3.0854923e-18 2.1146995e-15 2.7703639e-10 5.8713669e-09 3.2562912e-09]\n",
            " [3.3090577e-12 9.9994564e-01 6.1681980e-09 1.5367914e-10 9.4621123e-07\n",
            "  1.3448228e-14 5.1175373e-13 3.3768749e-05 1.9611365e-05 1.3498090e-09]\n",
            " [2.5565795e-19 1.6291624e-13 1.6418557e-09 1.8899578e-14 9.9998975e-01\n",
            "  1.1142270e-12 1.8745346e-18 4.8547348e-09 1.0274541e-05 1.2424483e-08]\n",
            " [6.8052604e-22 3.0211592e-10 3.9703184e-12 2.1972381e-10 2.2684330e-06\n",
            "  1.5224603e-06 2.2204439e-17 2.6352516e-11 6.0209131e-06 9.9999011e-01]\n",
            " [5.1145928e-12 1.3340381e-23 7.7008748e-17 8.9876576e-13 1.0056650e-14\n",
            "  9.9591416e-01 4.0857112e-03 6.8732213e-25 1.6772631e-07 2.5086315e-12]]\n",
            "[7 2 1 0 4 1 4 9 5]\n"
          ],
          "name": "stdout"
        }
      ]
    },
    {
      "cell_type": "markdown",
      "metadata": {
        "id": "R8eO0EepkxNB",
        "colab_type": "text"
      },
      "source": [
        "- Creating a python dictionary containing model layers (layer name is the key and layer is the value)"
      ]
    },
    {
      "cell_type": "code",
      "metadata": {
        "id": "CT--y98_dr2T",
        "colab_type": "code",
        "colab": {}
      },
      "source": [
        "layer_dict = dict([(layer.name, layer) for layer in model.layers])"
      ],
      "execution_count": 0,
      "outputs": []
    },
    {
      "cell_type": "markdown",
      "metadata": {
        "id": "PpcTBDD4sxtT",
        "colab_type": "text"
      },
      "source": [
        "**Visualizing images captured by filters**  \n",
        "\n",
        "- vis_img_in_filter() function defined below accepts layer_name as a parameter. Below we have provided conv2d_1 as the layer_name which is the first layer of the above network.\n",
        "\n",
        "- We pick one training example as input for the below function and this is reshaped to 1x28x28x1\n",
        "\n",
        "- layer_output.shape[3] gives the number of channels in the output of the layer considered\n",
        "\n",
        "- Every output channel is created using a filter. We want to visualize what the filters are trying to capture. So, for each filter we build a loss function. Loss function is built such that it maximizes the activation of the filter.\n",
        "\n",
        "- gradient with respect to the above loss is calculated\n",
        "\n",
        "- the input image is updated by performing gradient ascent using the loss and gradient calculated above\n",
        "\n",
        "- the image which has been in the form of a tensor for above operations is then converted to a valid image using deprocess_image() function\n",
        "\n",
        "- the image is then plotted"
      ]
    },
    {
      "cell_type": "code",
      "metadata": {
        "colab_type": "code",
        "outputId": "8697359b-5933-48c9-e99d-9419e468098f",
        "id": "BuFqM6qTfso7",
        "colab": {
          "base_uri": "https://localhost:8080/",
          "height": 837
        }
      },
      "source": [
        "import numpy as np\n",
        "from matplotlib import pyplot as plt\n",
        "from keras import backend as K\n",
        "%matplotlib inline\n",
        "# util function to convert a tensor into a valid image\n",
        "def deprocess_image(x):\n",
        "    # normalize tensor: center on 0., ensure std is 0.1\n",
        "    x -= x.mean()\n",
        "    x /= (x.std() + 1e-5)\n",
        "    x *= 0.1\n",
        "\n",
        "    # clip to [0, 1]\n",
        "    x += 0.5\n",
        "    x = np.clip(x, 0, 1)\n",
        "\n",
        "    # convert to RGB array\n",
        "    x *= 255\n",
        "    #x = x.transpose((1, 2, 0))\n",
        "    x = np.clip(x, 0, 255).astype('uint8')\n",
        "    return x\n",
        "\n",
        "def vis_img_in_filter(img = np.array(X_train[2]).reshape((1, 28, 28, 1)).astype(np.float64), \n",
        "                      layer_name = 'conv2d_1'):\n",
        "    layer_output = layer_dict[layer_name].output\n",
        "    img_ascs = list()\n",
        "    for filter_index in range(layer_output.shape[3]):\n",
        "        # build a loss function that maximizes the activation\n",
        "        # of the nth filter of the layer considered\n",
        "        loss = K.mean(layer_output[:, :, :, filter_index])\n",
        "\n",
        "        # compute the gradient of the input picture wrt this loss\n",
        "        grads = K.gradients(loss, model.input)[0]\n",
        "\n",
        "        # normalization trick: we normalize the gradient\n",
        "        grads /= (K.sqrt(K.mean(K.square(grads))) + 1e-5)\n",
        "\n",
        "        # this function returns the loss and grads given the input picture\n",
        "        iterate = K.function([model.input], [loss, grads])\n",
        "\n",
        "        # step size for gradient ascent\n",
        "        step = 5.\n",
        "\n",
        "        img_asc = np.array(img)\n",
        "        # run gradient ascent for 20 steps\n",
        "        for i in range(20):\n",
        "            loss_value, grads_value = iterate([img_asc])\n",
        "            img_asc += grads_value * step\n",
        "\n",
        "        img_asc = img_asc[0]\n",
        "        img_ascs.append(deprocess_image(img_asc).reshape((28, 28)))\n",
        "        \n",
        "    if layer_output.shape[3] >= 35:\n",
        "        plot_x, plot_y = 6, 6\n",
        "    elif layer_output.shape[3] >= 23:\n",
        "        plot_x, plot_y = 4, 6\n",
        "    elif layer_output.shape[3] >= 11:\n",
        "        plot_x, plot_y = 2, 6\n",
        "    else:\n",
        "        plot_x, plot_y = 1, 2\n",
        "    fig, ax = plt.subplots(plot_x, plot_y, figsize = (12, 12))\n",
        "    ax[0, 0].imshow(img.reshape((28, 28)), cmap = 'gray')\n",
        "    ax[0, 0].set_title('Input image')\n",
        "    fig.suptitle('Input image and %s filters' % (layer_name,))\n",
        "    fig.tight_layout(pad = 0.3, rect = [0, 0, 0.9, 0.9])\n",
        "    for (x, y) in [(i, j) for i in range(plot_x) for j in range(plot_y)]:\n",
        "        if x == 0 and y == 0:\n",
        "            continue\n",
        "        ax[x, y].imshow(img_ascs[x * plot_y + y - 1], cmap = 'gray')\n",
        "        ax[x, y].set_title('filter %d' % (x * plot_y + y - 1))\n",
        "\n",
        "vis_img_in_filter()"
      ],
      "execution_count": 0,
      "outputs": [
        {
          "output_type": "display_data",
          "data": {
            "image/png": "[encoded data removed]",
            "text/plain": [
              "<Figure size 864x864 with 24 Axes>"
            ]
          },
          "metadata": {
            "tags": []
          }
        }
      ]
    },
    {
      "cell_type": "markdown",
      "metadata": {
        "id": "bWvDsiR8Esdl",
        "colab_type": "text"
      },
      "source": [
        "### Defining a new network such that it has less than 20,000 parameters and achieves a validation accuracy of above 99.3%"
      ]
    },
    {
      "cell_type": "markdown",
      "metadata": {
        "id": "QH-VjjGqmIQP",
        "colab_type": "text"
      },
      "source": [
        "- Network Architecture \n",
        "\n",
        "28x28x1    |  3x3x1x12        RF=3x3  \n",
        "26x26x12  |  3x3x12x16      RF=5x5       \n",
        "24x24x16  |  **Max Pooling**   RF=10x10  \n",
        "12x12x16  |  3x3x16x16     RF=12x12  \n",
        "10x10x16  |  3x3x16x20     RF=14x14  \n",
        "8x8x20      |  3x3x20x22      RF=16x16  \n",
        "6x6x22      |  3x3x22x24      RF=18x18  \n",
        "4x4x24      | 4x4x10  \n",
        "1x1x10  \n",
        "\n",
        "- In a large network like this where the total parameters are around 19,000; bias (a very small quantity) in comparison) will not result in an observable difference in the network. Hence bias can be removed by setting bias=False as shown below"
      ]
    },
    {
      "cell_type": "code",
      "metadata": {
        "id": "dSJ3NS0dUTGD",
        "colab_type": "code",
        "outputId": "c06ff5c7-fd8d-4006-c7e1-b1f706ceff9c",
        "colab": {
          "base_uri": "https://localhost:8080/",
          "height": 683
        }
      },
      "source": [
        "from keras.layers import Activation\n",
        "model = Sequential()\n",
        "\n",
        " \n",
        "model.add(Convolution2D(12, 3, 3, activation='relu', input_shape=(28,28,1), bias=False))\n",
        "model.add(Convolution2D(16, 3, 3, activation='relu', bias=False))\n",
        "\n",
        "model.add(MaxPooling2D(pool_size=(2, 2)))\n",
        "\n",
        "model.add(Convolution2D(16, 3, 3, activation='relu', bias=False))\n",
        "model.add(Convolution2D(20, 3, 3, activation='relu', bias=False))\n",
        "model.add(Convolution2D(22, 3, 3, activation='relu', bias=False))\n",
        "model.add(Convolution2D(24, 3, 3, activation='relu', bias=False))\n",
        "model.add(Convolution2D(10, 4, bias=False))\n",
        "\n",
        "model.add(Flatten())\n",
        "model.add(Activation('softmax'))\n",
        "\n",
        "model.summary()"
      ],
      "execution_count": 0,
      "outputs": [
        {
          "output_type": "stream",
          "text": [
            "_________________________________________________________________\n",
            "Layer (type)                 Output Shape              Param #   \n",
            "=================================================================\n",
            "conv2d_181 (Conv2D)          (None, 26, 26, 12)        108       \n",
            "_________________________________________________________________\n",
            "conv2d_182 (Conv2D)          (None, 24, 24, 16)        1728      \n",
            "_________________________________________________________________\n",
            "max_pooling2d_25 (MaxPooling (None, 12, 12, 16)        0         \n",
            "_________________________________________________________________\n",
            "conv2d_183 (Conv2D)          (None, 10, 10, 16)        2304      \n",
            "_________________________________________________________________\n",
            "conv2d_184 (Conv2D)          (None, 8, 8, 20)          2880      \n",
            "_________________________________________________________________\n",
            "conv2d_185 (Conv2D)          (None, 6, 6, 22)          3960      \n",
            "_________________________________________________________________\n",
            "conv2d_186 (Conv2D)          (None, 4, 4, 24)          4752      \n",
            "_________________________________________________________________\n",
            "conv2d_187 (Conv2D)          (None, 1, 1, 10)          3840      \n",
            "_________________________________________________________________\n",
            "flatten_24 (Flatten)         (None, 10)                0         \n",
            "_________________________________________________________________\n",
            "activation_24 (Activation)   (None, 10)                0         \n",
            "=================================================================\n",
            "Total params: 19,572\n",
            "Trainable params: 19,572\n",
            "Non-trainable params: 0\n",
            "_________________________________________________________________\n"
          ],
          "name": "stdout"
        },
        {
          "output_type": "stream",
          "text": [
            "/usr/local/lib/python3.6/dist-packages/ipykernel_launcher.py:5: UserWarning: Update your `Conv2D` call to the Keras 2 API: `Conv2D(12, (3, 3), activation=\"relu\", input_shape=(28, 28, 1..., use_bias=False)`\n",
            "  \"\"\"\n",
            "/usr/local/lib/python3.6/dist-packages/ipykernel_launcher.py:6: UserWarning: Update your `Conv2D` call to the Keras 2 API: `Conv2D(16, (3, 3), activation=\"relu\", use_bias=False)`\n",
            "  \n",
            "/usr/local/lib/python3.6/dist-packages/ipykernel_launcher.py:12: UserWarning: Update your `Conv2D` call to the Keras 2 API: `Conv2D(16, (3, 3), activation=\"relu\", use_bias=False)`\n",
            "  if sys.path[0] == '':\n",
            "/usr/local/lib/python3.6/dist-packages/ipykernel_launcher.py:16: UserWarning: Update your `Conv2D` call to the Keras 2 API: `Conv2D(20, (3, 3), activation=\"relu\", use_bias=False)`\n",
            "  app.launch_new_instance()\n",
            "/usr/local/lib/python3.6/dist-packages/ipykernel_launcher.py:17: UserWarning: Update your `Conv2D` call to the Keras 2 API: `Conv2D(22, (3, 3), activation=\"relu\", use_bias=False)`\n",
            "/usr/local/lib/python3.6/dist-packages/ipykernel_launcher.py:19: UserWarning: Update your `Conv2D` call to the Keras 2 API: `Conv2D(24, (3, 3), activation=\"relu\", use_bias=False)`\n",
            "/usr/local/lib/python3.6/dist-packages/ipykernel_launcher.py:20: UserWarning: Update your `Conv2D` call to the Keras 2 API: `Conv2D(10, 4, use_bias=False)`\n"
          ],
          "name": "stderr"
        }
      ]
    },
    {
      "cell_type": "markdown",
      "metadata": {
        "id": "d8SsCVJ9ftMb",
        "colab_type": "text"
      },
      "source": [
        "EarlyStopping is used to stop training the model based on a condition \n",
        "- **monitor** parameter accepts the value to be monitored after each epoch. \n",
        "- **mode** conveys if the monitored value is desired to increase (max) or decrease (min).\n",
        "- **verbose** is the verbosity mode; if verbosity=1, it prints the number of the epoch at which the training was stopped. \n",
        "- **patience** is the number of epochs to wait to see if there is improvement before stopping the training\n",
        "- **restore_best_weights** tells if the best weights are to be restored after EarlyStopping"
      ]
    },
    {
      "cell_type": "code",
      "metadata": {
        "id": "ap7NZwXCURKd",
        "colab_type": "code",
        "colab": {}
      },
      "source": [
        "es = EarlyStopping(monitor='val_acc', mode='max', verbose=1, patience=5, restore_best_weights=True)"
      ],
      "execution_count": 0,
      "outputs": []
    },
    {
      "cell_type": "markdown",
      "metadata": {
        "id": "f1gU66SuI_kk",
        "colab_type": "text"
      },
      "source": [
        "- Compile the model"
      ]
    },
    {
      "cell_type": "code",
      "metadata": {
        "id": "zOIvSZvxUXX0",
        "colab_type": "code",
        "colab": {}
      },
      "source": [
        "model.compile(loss='categorical_crossentropy',\n",
        "             optimizer='adam',\n",
        "             metrics=['accuracy'])"
      ],
      "execution_count": 0,
      "outputs": []
    },
    {
      "cell_type": "markdown",
      "metadata": {
        "id": "gldzY5ZBJCB3",
        "colab_type": "text"
      },
      "source": [
        "- Train the model. EarlyStopping callback is provided while training so that training can be stopped early if monitored value does not improve"
      ]
    },
    {
      "cell_type": "code",
      "metadata": {
        "id": "isYune17UbFh",
        "colab_type": "code",
        "outputId": "e8d2bcef-47d8-43dc-d508-50e2b7c06429",
        "colab": {
          "base_uri": "https://localhost:8080/",
          "height": 595
        }
      },
      "source": [
        "model.fit(X_train, Y_train, batch_size=32, nb_epoch=15, verbose=1, validation_data=(X_test, Y_test), callbacks=[es])"
      ],
      "execution_count": 0,
      "outputs": [
        {
          "output_type": "stream",
          "text": [
            "/usr/local/lib/python3.6/dist-packages/ipykernel_launcher.py:1: UserWarning: The `nb_epoch` argument in `fit` has been renamed `epochs`.\n",
            "  \"\"\"Entry point for launching an IPython kernel.\n"
          ],
          "name": "stderr"
        },
        {
          "output_type": "stream",
          "text": [
            "Train on 60000 samples, validate on 10000 samples\n",
            "Epoch 1/15\n",
            "60000/60000 [==============================] - 12s 201us/step - loss: 0.2061 - acc: 0.9348 - val_loss: 0.0555 - val_acc: 0.9811\n",
            "Epoch 2/15\n",
            "60000/60000 [==============================] - 10s 169us/step - loss: 0.0613 - acc: 0.9810 - val_loss: 0.0384 - val_acc: 0.9870\n",
            "Epoch 3/15\n",
            "60000/60000 [==============================] - 10s 168us/step - loss: 0.0483 - acc: 0.9851 - val_loss: 0.0540 - val_acc: 0.9828\n",
            "Epoch 4/15\n",
            "60000/60000 [==============================] - 10s 167us/step - loss: 0.0387 - acc: 0.9877 - val_loss: 0.0282 - val_acc: 0.9899\n",
            "Epoch 5/15\n",
            "60000/60000 [==============================] - 10s 168us/step - loss: 0.0312 - acc: 0.9903 - val_loss: 0.0338 - val_acc: 0.9889\n",
            "Epoch 6/15\n",
            "60000/60000 [==============================] - 10s 169us/step - loss: 0.0294 - acc: 0.9909 - val_loss: 0.0259 - val_acc: 0.9918\n",
            "Epoch 7/15\n",
            "60000/60000 [==============================] - 10s 168us/step - loss: 0.0244 - acc: 0.9923 - val_loss: 0.0273 - val_acc: 0.9912\n",
            "Epoch 8/15\n",
            "60000/60000 [==============================] - 10s 167us/step - loss: 0.0211 - acc: 0.9931 - val_loss: 0.0287 - val_acc: 0.9913\n",
            "Epoch 9/15\n",
            "60000/60000 [==============================] - 10s 167us/step - loss: 0.0191 - acc: 0.9939 - val_loss: 0.0234 - val_acc: 0.9931\n",
            "Epoch 10/15\n",
            "60000/60000 [==============================] - 10s 166us/step - loss: 0.0182 - acc: 0.9940 - val_loss: 0.0381 - val_acc: 0.9898\n",
            "Epoch 11/15\n",
            "60000/60000 [==============================] - 10s 170us/step - loss: 0.0158 - acc: 0.9949 - val_loss: 0.0286 - val_acc: 0.9926\n",
            "Epoch 12/15\n",
            "60000/60000 [==============================] - 10s 171us/step - loss: 0.0148 - acc: 0.9954 - val_loss: 0.0305 - val_acc: 0.9915\n",
            "Epoch 13/15\n",
            "60000/60000 [==============================] - 10s 166us/step - loss: 0.0128 - acc: 0.9957 - val_loss: 0.0380 - val_acc: 0.9911\n",
            "Epoch 14/15\n",
            "60000/60000 [==============================] - 10s 166us/step - loss: 0.0134 - acc: 0.9955 - val_loss: 0.0297 - val_acc: 0.9925\n",
            "Restoring model weights from the end of the best epoch\n",
            "Epoch 00014: early stopping\n"
          ],
          "name": "stdout"
        },
        {
          "output_type": "execute_result",
          "data": {
            "text/plain": [
              "<keras.callbacks.History at 0x7f40da0a9d68>"
            ]
          },
          "metadata": {
            "tags": []
          },
          "execution_count": 84
        }
      ]
    },
    {
      "cell_type": "markdown",
      "metadata": {
        "id": "ZPy3VINpJiAX",
        "colab_type": "text"
      },
      "source": [
        "- Model was stopped at 14th epoch since validation accuracy did not improve for 5 epochs (since 9th epoch)\n",
        "- Best weights (weights of the 9th epoch) are restored\n",
        "- Validation accuracy of 99.31% achieved"
      ]
    },
    {
      "cell_type": "code",
      "metadata": {
        "id": "rJdEAXWMUepB",
        "colab_type": "code",
        "outputId": "7a96efd2-e983-4e33-eee0-640d5d3eb10e",
        "colab": {
          "base_uri": "https://localhost:8080/",
          "height": 34
        }
      },
      "source": [
        "score = model.evaluate(X_test, Y_test, verbose=0)\n",
        "print(score)"
      ],
      "execution_count": 0,
      "outputs": [
        {
          "output_type": "stream",
          "text": [
            "[0.023431709013739237, 0.9931]\n"
          ],
          "name": "stdout"
        }
      ]
    }
  ]
}